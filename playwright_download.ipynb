{
 "cells": [
  {
   "cell_type": "raw",
   "id": "0",
   "metadata": {},
   "source": [
    "!pip install nest_asyncio"
   ]
  },
  {
   "cell_type": "code",
   "execution_count": null,
   "id": "1",
   "metadata": {},
   "outputs": [],
   "source": [
    "import getpass\n",
    "import asyncio\n",
    "import logging\n",
    "import nest_asyncio\n",
    "from pathlib import Path\n",
    "from playwright.async_api import async_playwright\n",
    "\n",
    "nest_asyncio.apply()  # To run in Jupyter\n",
    "\n",
    "retry_interval = 10\n",
    "max_retries = 10\n",
    "\n",
    "# Configure logging to show only critical errors\n",
    "logging.basicConfig(level=logging.INFO)\n",
    "\n",
    "username = getpass.getuser()  # Gets username\n",
    "\n",
    "url = \"https://wsform.com/knowledgebase/sample-csv-files/\"\n",
    "local_download_path = f\"/Users/{username}/Downloads\"\n",
    "\n",
    "async def automation():\n",
    "    async with async_playwright() as plwt:\n",
    "        chrome_path = '/Applications/Google Chrome.app/Contents/MacOS/Google Chrome'\n",
    "        user_data_dir = f'/Users/{username}/Library/Application Support/Google/Chrome/Person 1'\n",
    "        browser = await plwt.chromium.launch_persistent_context(user_data_dir, \n",
    "                                                                slow_mo=50,\n",
    "                                                                executable_path=chrome_path, \n",
    "                                                                accept_downloads=True,\n",
    "                                                                downloads_path=local_download_path,\n",
    "                                                                ignore_default_args=[\"--enable-automation\"],\n",
    "                                                                headless=False)\n",
    "        \n",
    "        \n",
    "        page = await browser.new_page()\n",
    "        await page.goto(url)\n",
    "        logging.info(f\"Navigated to {url}\")\n",
    "\n",
    "        async with page.expect_download() as download_info:\n",
    "            await page.click('text=industry.csv')\n",
    "            logging.info(\"Clicked on the download link for industry.csv\")\n",
    "            download = await download_info.value\n",
    "        try:\n",
    "            path = await download.path()\n",
    "            suggested_filename = download.suggested_filename\n",
    "            the_file = Path(local_download_path) / suggested_filename\n",
    "            await download.save_as(the_file)\n",
    "            logging.info(f\"Saved {suggested_filename} to {local_download_path}\")\n",
    "        except Exception as e:\n",
    "            logging.error(f\"Could not save {suggested_filename} to {local_download_path}\")\n",
    "\n",
    "        # Make sure it's downloaded, because async downloads can be interrupted by proceeding ahead too fast.\n",
    "        for _ in range(max_retries):\n",
    "            if the_file.exists():\n",
    "                # File found, exit the loop\n",
    "                logging.info(f\"File '{the_file}' found.\")\n",
    "                break\n",
    "            else:\n",
    "                # File not found, wait a bit and try again\n",
    "                logging.error(f\"File '{the_file}' not found. Retrying...\")\n",
    "                await asyncio.sleep(retry_interval)\n",
    "\n",
    "\n",
    "        await asyncio.sleep(5)  # Lots of time given to set up persistent login.\n",
    "        await browser.close()\n",
    "        # logging.info(\"Browser closed\")\n",
    "\n",
    "asyncio.run(automation())"
   ]
  }
 ],
 "metadata": {
  "kernelspec": {
   "display_name": "Python 3 (ipykernel)",
   "language": "python",
   "name": "python3"
  },
  "language_info": {
   "codemirror_mode": {
    "name": "ipython",
    "version": 3
   },
   "file_extension": ".py",
   "mimetype": "text/x-python",
   "name": "python",
   "nbconvert_exporter": "python",
   "pygments_lexer": "ipython3",
   "version": "3.12.2"
  }
 },
 "nbformat": 4,
 "nbformat_minor": 5
}
